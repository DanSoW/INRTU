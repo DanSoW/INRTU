{
  "nbformat": 4,
  "nbformat_minor": 0,
  "metadata": {
    "colab": {
      "provenance": [],
      "gpuType": "V28"
    },
    "kernelspec": {
      "name": "python3",
      "display_name": "Python 3"
    },
    "language_info": {
      "name": "python"
    },
    "accelerator": "TPU"
  },
  "cells": [
    {
      "cell_type": "code",
      "execution_count": 61,
      "metadata": {
        "id": "J1rZAUTuJCQ1"
      },
      "outputs": [],
      "source": [
        "import tensorflow as tf\n",
        "import matplotlib.pyplot as plt\n",
        "import pickle"
      ]
    },
    {
      "cell_type": "code",
      "source": [
        "# Определение класса DenseNN\n",
        "class DenseNN(tf.Module):\n",
        "  def __init__(self, outputs):\n",
        "    super().__init__()\n",
        "\n",
        "    # Добавление выходных нейронов\n",
        "    self.outputs = outputs\n",
        "\n",
        "    # Флаг инициализации (первый вызов объекта через __call__)\n",
        "    self.fl_init = False\n",
        "\n",
        "  # Добавление объекту класса возможности \"вызываться\" как функции\n",
        "  def __call__(self, x):\n",
        "    # Если fl_init равен False, то\n",
        "    if not self.fl_init:\n",
        "      # Предварительно инициализируем весов и смещения\n",
        "      self.w = tf.random.truncated_normal((3, self.outputs), stddev=0.1, name=\"w\")\n",
        "      self.b = tf.zeros([self.outputs], dtype=tf.float32, name=\"b\")\n",
        "\n",
        "      # Конвертация значений весов и смещения в переменные\n",
        "      self.w = tf.Variable(self.w)\n",
        "      self.b = tf.Variable(self.b)\n",
        "\n",
        "      self.fl_init = True\n",
        "\n",
        "    # Получение значений точки x и y, в контексте функции\n",
        "    a, b = x[0, 0], x[0, 1]\n",
        "\n",
        "    # Определение значения функции\n",
        "    y = (self.w[0] * a + b) ** 4 + tf.math.sin(self.w[1] * a * b) - tf.math.cos(self.w[2] * b ** 2) + self.b\n",
        "\n",
        "    return y"
      ],
      "metadata": {
        "id": "ONHy3R3QJI-2"
      },
      "execution_count": 62,
      "outputs": []
    },
    {
      "cell_type": "code",
      "source": [
        "# Определение функции из первой задачи\n",
        "func = lambda x, y: (2 * x + y) ** 4 + tf.math.sin(2 * x * y) - tf.math.cos(2 * y ** 2)\n",
        "func2 = lambda x, y: (2.0000007 * x + y) ** 4 + tf.math.sin(2.0002048 * x * y) - tf.math.cos(-1.9996572 * y ** 2)\n",
        "\n",
        "# Вывод данных функции\n",
        "print(func(2.0, 1.0))\n",
        "print(func2(2.0, 1.0))"
      ],
      "metadata": {
        "colab": {
          "base_uri": "https://localhost:8080/"
        },
        "id": "mtdtSw-7JghB",
        "outputId": "df92fb7c-e88b-4b8f-8c0d-94b29297d9fc"
      },
      "execution_count": 79,
      "outputs": [
        {
          "output_type": "stream",
          "name": "stdout",
          "text": [
            "tf.Tensor(624.65936, shape=(), dtype=float32)\n",
            "tf.Tensor(624.6594, shape=(), dtype=float32)\n"
          ]
        }
      ]
    },
    {
      "cell_type": "code",
      "source": [
        "# Размер выборки\n",
        "SIZE = 1000\n",
        "\n",
        "# Обучающий набор данных (образцы)\n",
        "x_train = tf.random.uniform(minval=0, maxval=1.5, shape=(SIZE, 2))\n",
        "# Правильные \"ответы\" для нейроной сети (метки)\n",
        "y_train = [func(a, b) for a, b in x_train]\n",
        "\n",
        "# Создание экземпляра класса DenseNN с одним выходным нейроном\n",
        "model = DenseNN(1)\n",
        "\n",
        "# Определение функции потерь - средний квадрат ошибки\n",
        "loss = lambda x, y: tf.reduce_mean(tf.square(x - y))\n",
        "\n",
        "# Определение оптимизатора - оптимизатор Адам со скоростью обучения 0.001\n",
        "opt = tf.optimizers.Adam(learning_rate=0.001)\n",
        "\n",
        "# История функции потерь\n",
        "loss_history = []\n",
        "\n",
        "# Минимальная ошибка\n",
        "min_loss = -1"
      ],
      "metadata": {
        "id": "g1iVPFz5Jm6h"
      },
      "execution_count": 158,
      "outputs": []
    },
    {
      "cell_type": "code",
      "source": [
        "for i in range(30):\n",
        "    for x, y in zip(x_train, y_train):\n",
        "        x = tf.expand_dims(x, axis=0)\n",
        "        y = tf.constant(y, shape=(1, 1))\n",
        "\n",
        "        with tf.GradientTape() as tape:\n",
        "            f_loss = loss(y, model(x))\n",
        "\n",
        "        grads = tape.gradient(f_loss, model.trainable_variables)\n",
        "        opt.apply_gradients(zip(grads, model.trainable_variables))\n",
        "\n",
        "    print(str(i+1) + ': ' + str(f_loss.numpy()))\n",
        "\n",
        "    if f_loss.numpy() < min_loss or min_loss == -1:\n",
        "        print('loss reduced from', min_loss, 'to', f_loss.numpy())\n",
        "        min_loss = f_loss.numpy()\n",
        "\n",
        "        f = open('saved_model', 'wb')\n",
        "        pickle.dump(model, f)\n",
        "        f.close()\n",
        "\n",
        "    loss_history.append(f_loss.numpy())\n"
      ],
      "metadata": {
        "colab": {
          "base_uri": "https://localhost:8080/"
        },
        "id": "g5faNUwdJ09m",
        "outputId": "2895dc50-eab0-47fd-b1dc-0791752cfd26"
      },
      "execution_count": 159,
      "outputs": [
        {
          "output_type": "stream",
          "name": "stdout",
          "text": [
            "1: 30.912624\n",
            "loss reduced from -1 to 30.912624\n",
            "2: 10.269479\n",
            "loss reduced from 30.912624 to 10.269479\n",
            "3: 0.32622084\n",
            "loss reduced from 10.269479 to 0.32622084\n",
            "4: 0.8710293\n",
            "5: 1.183339\n",
            "6: 1.0704263\n",
            "7: 0.89768076\n",
            "8: 0.6671095\n",
            "9: 0.4004728\n",
            "10: 0.1572233\n",
            "loss reduced from 0.32622084 to 0.1572233\n",
            "11: 0.01882878\n",
            "loss reduced from 0.1572233 to 0.01882878\n",
            "12: 0.0067875343\n",
            "loss reduced from 0.01882878 to 0.0067875343\n",
            "13: 0.042818908\n",
            "14: 0.055426724\n",
            "15: 0.039825972\n",
            "16: 0.007683829\n",
            "17: 0.0012839955\n",
            "loss reduced from 0.0067875343 to 0.0012839955\n",
            "18: 0.0028237756\n",
            "19: 0.0005651874\n",
            "loss reduced from 0.0012839955 to 0.0005651874\n",
            "20: 3.0976385e-05\n",
            "loss reduced from 0.0005651874 to 3.0976385e-05\n",
            "21: 3.294403e-05\n",
            "22: 1.237706e-05\n",
            "loss reduced from 3.0976385e-05 to 1.237706e-05\n",
            "23: 3.8960047e-07\n",
            "loss reduced from 1.237706e-05 to 3.8960047e-07\n",
            "24: 4.8466973e-09\n",
            "loss reduced from 3.8960047e-07 to 4.8466973e-09\n",
            "25: 4.035739e-06\n",
            "26: 9.0676826e-07\n",
            "27: 2.5934787e-05\n",
            "28: 3.953778e-06\n",
            "29: 1.0706799e-08\n",
            "30: 7.1960153e-07\n"
          ]
        }
      ]
    },
    {
      "cell_type": "code",
      "source": [
        "f = open('saved_model', 'rb')\n",
        "\n",
        "model1 = pickle.load(f)\n",
        "\n",
        "f.close()\n",
        "\n",
        "\n",
        "print(model1.trainable_variables)"
      ],
      "metadata": {
        "colab": {
          "base_uri": "https://localhost:8080/"
        },
        "id": "tbkhslDew8ht",
        "outputId": "ca394e24-1b8c-42a7-807c-c68f926bfe0e"
      },
      "execution_count": 160,
      "outputs": [
        {
          "output_type": "stream",
          "name": "stdout",
          "text": [
            "(<tf.Variable 'Variable:0' shape=(1,) dtype=float32, numpy=array([0.0013976], dtype=float32)>, <tf.Variable 'Variable:0' shape=(3, 1) dtype=float32, numpy=\n",
            "array([[1.9999267],\n",
            "       [1.9931198],\n",
            "       [2.0007467]], dtype=float32)>)\n"
          ]
        }
      ]
    },
    {
      "cell_type": "code",
      "source": [
        "print(model1.trainable_variables)\n",
        "plt.plot(loss_history)"
      ],
      "metadata": {
        "colab": {
          "base_uri": "https://localhost:8080/",
          "height": 541
        },
        "id": "jkK3cMyN5had",
        "outputId": "6cd392e4-0277-4c6c-9e68-19bf6f6625bd"
      },
      "execution_count": 163,
      "outputs": [
        {
          "output_type": "stream",
          "name": "stdout",
          "text": [
            "(<tf.Variable 'Variable:0' shape=(1,) dtype=float32, numpy=array([0.0013976], dtype=float32)>, <tf.Variable 'Variable:0' shape=(3, 1) dtype=float32, numpy=\n",
            "array([[1.9999267],\n",
            "       [1.9931198],\n",
            "       [2.0007467]], dtype=float32)>)\n"
          ]
        },
        {
          "output_type": "execute_result",
          "data": {
            "text/plain": [
              "[<matplotlib.lines.Line2D at 0x7b85fc21c100>]"
            ]
          },
          "metadata": {},
          "execution_count": 163
        },
        {
          "output_type": "display_data",
          "data": {
            "text/plain": [
              "<Figure size 640x480 with 1 Axes>"
            ],
            "image/png": "[encoded data removed]"
          },
          "metadata": {}
        }
      ]
    },
    {
      "cell_type": "code",
      "source": [
        "x = [3.0, 2.0, 1.4, 0.9, 1.4]\n",
        "y = [2.0, -2.0, 2.7, -3.0, 4.0]\n",
        "\n",
        "result = []\n",
        "sum = 0\n",
        "\n",
        "for i in range(len(x)):\n",
        "  a = func(x[i], y[i]).numpy()\n",
        "  b = model1(tf.constant([[x[i], y[i]]])).numpy()[0]\n",
        "  c = abs(a - b)\n",
        "  sum += c\n",
        "\n",
        "  result.append([a, b, c])\n",
        "\n",
        "\n",
        "print(\"sum= \", (sum / len(x)))\n",
        "\n",
        "for i in result:\n",
        "  print(\"func1=\", i[0], \"; func2=\", i[1], \"; abs(func1 - func2)=\", i[2])"
      ],
      "metadata": {
        "colab": {
          "base_uri": "https://localhost:8080/"
        },
        "id": "I5iPOrwKLt03",
        "outputId": "a2fe324f-b7b5-46c2-e902-03e840d5afc3"
      },
      "execution_count": 209,
      "outputs": [
        {
          "output_type": "stream",
          "name": "stdout",
          "text": [
            "sum=  0.13818259239196778\n",
            "func1= 4095.609 ; func2= 4095.1287 ; abs(func1 - func2)= 0.4802246\n",
            "func1= 15.156142 ; func2= 15.152173 ; abs(func1 - func2)= 0.0039691925\n",
            "func1= 916.4481 ; func2= 916.3783 ; abs(func1 - func2)= 0.06982422\n",
            "func1= 2.1860478 ; func2= 2.1945248 ; abs(func1 - func2)= 0.008476973\n",
            "func1= 2136.3242 ; func2= 2136.1958 ; abs(func1 - func2)= 0.12841797\n"
          ]
        }
      ]
    },
    {
      "cell_type": "code",
      "source": [
        "# Обучение модели нейронной сети\n",
        "for i in range(200):\n",
        "    # Проход по кортежам\n",
        "    for x, y in zip(x_train, y_train):\n",
        "        # Расширение формы входного массива\n",
        "        x = tf.expand_dims(x, axis=0)\n",
        "\n",
        "        # Создание константы по существующему значению y\n",
        "        y = tf.constant(y, shape=(1, 1))\n",
        "\n",
        "        # Процесс вычисления градиента\n",
        "        with tf.GradientTape() as tape:\n",
        "            f_loss = loss(y, model(x))\n",
        "\n",
        "        # Получение значения градиентов функции\n",
        "        grads = tape.gradient(f_loss, model.trainable_variables)\n",
        "        # Определение правил обновления градиента функции\n",
        "        opt.apply_gradients(zip(grads, model.trainable_variables))\n",
        "\n",
        "    # Вывод промежуточных результатов обучения\n",
        "    print(str(i+1) + ': ' + str(f_loss.numpy()))\n",
        "\n",
        "    # Если значение функции потерь меньше минимального значения, то\n",
        "    if f_loss.numpy() < min_loss or min_loss == -1:\n",
        "        # Вывести на экран промежуточную информацию\n",
        "        print('loss reduced from', min_loss, 'to', f_loss.numpy())\n",
        "\n",
        "        # Задать новое минимальное значение функции потерь\n",
        "        min_loss = f_loss.numpy()\n",
        "\n",
        "        # Записать в файл промежуточные результаты обучения нейронной сети\n",
        "        f = open('saved_model', 'wb')\n",
        "        pickle.dump(model, f)\n",
        "        f.close()\n",
        "\n",
        "    # Добавление в историю результатов функции потерь\n",
        "    loss_history.append(f_loss.numpy())\n",
        "\n",
        "# Открытие файла с результатами обучения нейронной сети\n",
        "f = open('saved_model', 'rb')\n",
        "\n",
        "# Загрузка из файла данных в модель\n",
        "model = pickle.load(f)\n",
        "\n",
        "# Закрытие файла\n",
        "f.close()\n",
        "\n",
        "\n",
        "# Вывод количества тренировочных параметров\n",
        "print(model.trainable_variables)\n",
        "\n",
        "# Вывод графика функции потерь\n",
        "plt.plot(loss_history)"
      ],
      "metadata": {
        "id": "J3mT4T5nObgz"
      },
      "execution_count": null,
      "outputs": []
    },
    {
      "cell_type": "code",
      "source": [
        "# Определение функции из первой задачи\n",
        "func_test = lambda x, y: (2 * x + y) ** 4 + tf.math.sin(2 * x * y) - tf.math.cos(2 * y ** 2)\n",
        "func_test_r = lambda x, y: (1.9999267 * x + y) ** 4 + tf.math.sin(1.9931198 * x * y) - tf.math.cos(2.0007467 * y ** 2)\n",
        "\n",
        "x = [3.0, 2.0]\n",
        "y = [2.0, -2.0]\n",
        "\n",
        "result = []\n",
        "sum = 0\n",
        "\n",
        "for i in range(len(x)):\n",
        "  a = func_test(x[i], y[i]).numpy()\n",
        "  b = func_test_r(x[i], y[i]).numpy()\n",
        "  c = abs(a - b)\n",
        "  sum += c\n",
        "\n",
        "  result.append([a, b, c])\n",
        "\n",
        "print(sum / len(x))\n",
        "print()\n",
        "\n",
        "for i in result:\n",
        "  print(i)"
      ],
      "metadata": {
        "colab": {
          "base_uri": "https://localhost:8080/"
        },
        "id": "CX1n3bJf6BTC",
        "outputId": "350e2a53-c8fc-45f2-f3ff-7f9875f78b76"
      },
      "execution_count": 198,
      "outputs": [
        {
          "output_type": "stream",
          "name": "stdout",
          "text": [
            "0.24364995956420898\n",
            "\n",
            "[4095.609, 4095.127, 0.4819336]\n",
            "[15.156142, 15.150776, 0.0053663254]\n"
          ]
        }
      ]
    },
    {
      "cell_type": "code",
      "source": [
        "import time\n",
        "\n",
        "# Исходная функция\n",
        "def function_tf(x, y):\n",
        "    f = (2 * x + y) ** 4 + tf.math.sin(2 * x * y) - tf.math.cos(2 * y ** 2)\n",
        "    return f\n",
        "\n",
        "# Новая функция с декоратором tf.function\n",
        "@tf.function\n",
        "def function_tf_optimize(x, y):\n",
        "    f = (2 * x + y) ** 4 + tf.math.sin(2 * x * y) - tf.math.cos(2 * y ** 2)\n",
        "    return f\n",
        "\n",
        "# Функция для тестирования\n",
        "def test_function(fn):\n",
        "\n",
        "  # Локальная функция\n",
        "  def wrapper(*args, **kwargs):\n",
        "      # Запоминаем время начала вычислений\n",
        "      start = time.time()\n",
        "\n",
        "      # Вызов функции\n",
        "      fn(*args, **kwargs)\n",
        "\n",
        "      # Получаем продолжительность вычислений\n",
        "      dt = time.time() - start\n",
        "      print(f\"Время обработки: {dt} сек\")\n",
        "\n",
        "  # Возвращение локальной функции\n",
        "  return wrapper\n",
        "\n",
        "# Размер тестовых данных\n",
        "SIZE = 10000\n",
        "\n",
        "# Генерация тестовых данных, заполненных единицами\n",
        "x = tf.ones((SIZE, SIZE), dtype=tf.float32)\n",
        "y = tf.ones_like(x, dtype=tf.float32)\n",
        "\n",
        "print(\"Вычисления с исходной функцией\")\n",
        "# Вызов тестовой функции с передачей ей исходной функции\n",
        "test_function(function_tf)(x, y)\n",
        "\n",
        "print()\n",
        "\n",
        "print(\"Вычисления с функцией, обёрнутой в tf.function\")\n",
        "# Вызов тестовой функции с передачей ей функции,\n",
        "# которая преобразована в операции на основе графа\n",
        "test_function(function_tf_optimize)(x, y)"
      ],
      "metadata": {
        "colab": {
          "base_uri": "https://localhost:8080/"
        },
        "id": "J9p2wS_b6hM_",
        "outputId": "2110d033-595e-44dd-95e3-43fd22de5b30"
      },
      "execution_count": 217,
      "outputs": [
        {
          "output_type": "stream",
          "name": "stdout",
          "text": [
            "Вычисления с исходной функцией\n",
            "Время обработки: 7.892157554626465 сек\n",
            "\n",
            "Вычисления с функцией, обёрнутой в tf.function\n",
            "Время обработки: 3.3543646335601807 сек\n"
          ]
        }
      ]
    },
    {
      "cell_type": "code",
      "source": [
        "import tensorflow as tf\n",
        "import numpy as np\n",
        "\n",
        "# Определение узла для умножения\n",
        "class MultiplyNode(object):\n",
        "  def __init__(self, theParam=1):\n",
        "    self.param = theParam\n",
        "\n",
        "  # Прямой проход\n",
        "  def forward(self, x, y):\n",
        "    z = self.param * x * y\n",
        "\n",
        "    self.x = x\n",
        "    self.y = y\n",
        "\n",
        "    return z\n",
        "\n",
        "  # Обратный проход\n",
        "  def backward(self, dz = 1.0):\n",
        "    # Производная по y\n",
        "    dy = self.param * self.x * dz #dx/dt*dL/dz\n",
        "\n",
        "    # Производная по x\n",
        "    dx = self.param * self.y * dz\n",
        "\n",
        "    return [dx, dy]\n",
        "\n",
        "# Определение узла для суммы\n",
        "class SumNode(object):\n",
        "  def __init__(self, theParam = 1):\n",
        "    self.param = theParam\n",
        "\n",
        "  # Прямой проход\n",
        "  def forward(self, x, y):\n",
        "    z = self.param * x + y\n",
        "\n",
        "    self.x = x\n",
        "    self.y = y\n",
        "\n",
        "    return z\n",
        "\n",
        "  # Обратный проход\n",
        "  def backward(self, dz = 1.0):\n",
        "    dy = dz #dx/dt*dL/dz\n",
        "    dx = self.param * dz\n",
        "\n",
        "    return [dx, dy]\n",
        "\n",
        "# Определение узла для возведения в степень\n",
        "class PowNode(object):\n",
        "\n",
        "  def __init__(self, theParam = 1.0, coef = 1.0):\n",
        "    self.param = theParam\n",
        "    self.coef = coef\n",
        "\n",
        "  # Прямой проход\n",
        "  def forward(self, x):\n",
        "    z = self.coef * x ** self.param\n",
        "\n",
        "    self.x = x\n",
        "\n",
        "    return z\n",
        "\n",
        "  # Обратный проход\n",
        "  def backward(self, dz = 1.0):\n",
        "    dx = (self.param * self.coef) * (self.x ** (self.param - 1)) * dz\n",
        "    return dx\n",
        "\n",
        "# Определение узла для синуса\n",
        "class SinNode(object):\n",
        "  def forward(self, x):\n",
        "    z = tf.math.sin(x)\n",
        "    self.x = x\n",
        "\n",
        "    return z\n",
        "\n",
        "  def backward(self, x):\n",
        "    dx = tf.math.cos(x)\n",
        "\n",
        "    return dx\n",
        "\n",
        "# Определение узла для косинуса\n",
        "class CosNode(object):\n",
        "  def forward(self, x):\n",
        "    z = -1.0 * tf.math.cos(x)\n",
        "    self.x = x\n",
        "\n",
        "    return z\n",
        "\n",
        "  def backward(self, x):\n",
        "    dx = tf.math.sin(x)\n",
        "\n",
        "    return dx\n",
        "\n",
        "nodeA = SumNode(2)\n",
        "nodeB = PowNode(4)\n",
        "nodeC = MultiplyNode(2)\n",
        "nodeD = SinNode()\n",
        "nodeE = PowNode(2, 2)\n",
        "nodeF = CosNode()\n",
        "\n",
        "resA = nodeA.forward(2.0, -2.0)\n",
        "resB = nodeB.forward(resA)\n",
        "\n",
        "resC = nodeC.forward(2.0, -2.0)\n",
        "resD = nodeD.forward(resC)\n",
        "\n",
        "resE = nodeE.forward(-2.0)\n",
        "resF = nodeF.forward(resE);\n",
        "\n",
        "gradAx = nodeA.backward()[0] * nodeB.backward()\n",
        "gradAy = nodeA.backward()[1] * nodeB.backward()\n",
        "\n",
        "gradBx = nodeC.backward()[0] * nodeD.backward(resC)\n",
        "gradBy = nodeC.backward()[1] * nodeD.backward(resC)\n",
        "\n",
        "gradCy = nodeE.backward() * nodeF.backward(resE)\n",
        "\n",
        "gradX = gradAx + gradBx\n",
        "gradY = gradAy + gradBy + gradCy\n",
        "\n",
        "print(gradX.numpy(), gradY.numpy())\n"
      ],
      "metadata": {
        "colab": {
          "base_uri": "https://localhost:8080/"
        },
        "id": "UrF8fSmVFAVy",
        "outputId": "41a9c567-e537-4d5d-af96-0a0ec02f5d11"
      },
      "execution_count": 249,
      "outputs": [
        {
          "output_type": "stream",
          "name": "stdout",
          "text": [
            "64.582 23.503134\n"
          ]
        }
      ]
    },
    {
      "cell_type": "code",
      "source": [],
      "metadata": {
        "id": "-ssgOoFIVmPc"
      },
      "execution_count": null,
      "outputs": []
    }
  ]
}